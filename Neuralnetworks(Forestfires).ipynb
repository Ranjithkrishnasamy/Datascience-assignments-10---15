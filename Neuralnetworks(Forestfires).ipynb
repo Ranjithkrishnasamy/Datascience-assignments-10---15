{
  "nbformat": 4,
  "nbformat_minor": 0,
  "metadata": {
    "colab": {
      "provenance": [],
      "authorship_tag": "ABX9TyMTsIGEIzyovs1wPGMPnzMf",
      "include_colab_link": true
    },
    "kernelspec": {
      "name": "python3",
      "display_name": "Python 3"
    },
    "language_info": {
      "name": "python"
    }
  },
  "cells": [
    {
      "cell_type": "markdown",
      "metadata": {
        "id": "view-in-github",
        "colab_type": "text"
      },
      "source": [
        "<a href=\"https://colab.research.google.com/github/Ranjithkrishnasamy/Datascience-assignments-11-to-15/blob/main/Neuralnetworks(Forestfires).ipynb\" target=\"_parent\"><img src=\"https://colab.research.google.com/assets/colab-badge.svg\" alt=\"Open In Colab\"/></a>"
      ]
    },
    {
      "cell_type": "code",
      "execution_count": 1,
      "metadata": {
        "id": "DngFOrEA_qnT"
      },
      "outputs": [],
      "source": [
        "import pandas as pd\n",
        "import numpy as np\n",
        "import matplotlib.pyplot as plt\n",
        "from sklearn.model_selection import train_test_split\n",
        "from sklearn.preprocessing import LabelEncoder, StandardScaler\n",
        "from tensorflow.keras.models import Sequential\n",
        "from tensorflow.keras.layers import Dense"
      ]
    },
    {
      "cell_type": "code",
      "source": [
        "path = r\"/content/forestfires.csv\""
      ],
      "metadata": {
        "id": "7Rtoy3m1_4u_"
      },
      "execution_count": 2,
      "outputs": []
    },
    {
      "cell_type": "code",
      "source": [
        "data = pd.read_csv(path)"
      ],
      "metadata": {
        "id": "SBIBqSxg_8-K"
      },
      "execution_count": 3,
      "outputs": []
    },
    {
      "cell_type": "code",
      "source": [
        "categorical_cols = ['month', 'day', 'size_category']\n",
        "label_encoder = LabelEncoder()\n",
        "for col in categorical_cols:\n",
        "    data[col] = label_encoder.fit_transform(data[col])"
      ],
      "metadata": {
        "id": "9bjCJYcrABLe"
      },
      "execution_count": 4,
      "outputs": []
    },
    {
      "cell_type": "code",
      "source": [
        "X = data.drop(['area'], axis=1).values\n",
        "y = data['area'].values"
      ],
      "metadata": {
        "id": "3ICldsT1AFj3"
      },
      "execution_count": 5,
      "outputs": []
    },
    {
      "cell_type": "code",
      "source": [
        "X_train, X_test, y_train, y_test = train_test_split(X, y, test_size=0.2, random_state=42)"
      ],
      "metadata": {
        "id": "HgRdyJIpAIIw"
      },
      "execution_count": 6,
      "outputs": []
    },
    {
      "cell_type": "code",
      "source": [
        "numeric_cols = ['FFMC', 'DMC', 'DC', 'ISI', 'temp', 'RH', 'wind']\n",
        "scaler = StandardScaler()\n",
        "X_train[:, 2:9] = scaler.fit_transform(X_train[:, 2:9])\n",
        "X_test[:, 2:9] = scaler.transform(X_test[:, 2:9])"
      ],
      "metadata": {
        "id": "wrruyBFmALUo"
      },
      "execution_count": 7,
      "outputs": []
    },
    {
      "cell_type": "code",
      "source": [
        "model = Sequential()\n",
        "model.add(Dense(16, activation='relu', input_dim=X.shape[1]))\n",
        "model.add(Dense(8, activation='relu'))\n",
        "model.add(Dense(1))"
      ],
      "metadata": {
        "id": "fdIWh943AO-S"
      },
      "execution_count": 8,
      "outputs": []
    },
    {
      "cell_type": "code",
      "source": [
        "model.compile(loss='mean_squared_error', optimizer='adam')"
      ],
      "metadata": {
        "id": "nNIkl1PpAR0q"
      },
      "execution_count": 9,
      "outputs": []
    },
    {
      "cell_type": "code",
      "source": [
        "history = model.fit(X_train, y_train, validation_data=(X_test, y_test), epochs=50, batch_size=32)"
      ],
      "metadata": {
        "colab": {
          "base_uri": "https://localhost:8080/"
        },
        "id": "hGJ1T-LjAWEu",
        "outputId": "849eba79-fcfa-4219-fa95-aab15b9c5910"
      },
      "execution_count": 11,
      "outputs": [
        {
          "output_type": "stream",
          "name": "stdout",
          "text": [
            "Epoch 1/50\n",
            "13/13 [==============================] - 0s 9ms/step - loss: 1926.4304 - val_loss: 11526.5166\n",
            "Epoch 2/50\n",
            "13/13 [==============================] - 0s 4ms/step - loss: 1918.0972 - val_loss: 11501.2236\n",
            "Epoch 3/50\n",
            "13/13 [==============================] - 0s 5ms/step - loss: 1905.8315 - val_loss: 11488.0479\n",
            "Epoch 4/50\n",
            "13/13 [==============================] - 0s 4ms/step - loss: 1895.0924 - val_loss: 11455.4287\n",
            "Epoch 5/50\n",
            "13/13 [==============================] - 0s 4ms/step - loss: 1885.3492 - val_loss: 11417.1914\n",
            "Epoch 6/50\n",
            "13/13 [==============================] - 0s 5ms/step - loss: 1873.9912 - val_loss: 11414.2568\n",
            "Epoch 7/50\n",
            "13/13 [==============================] - 0s 4ms/step - loss: 1864.9944 - val_loss: 11363.8730\n",
            "Epoch 8/50\n",
            "13/13 [==============================] - 0s 5ms/step - loss: 1854.4110 - val_loss: 11370.9707\n",
            "Epoch 9/50\n",
            "13/13 [==============================] - 0s 4ms/step - loss: 1846.7643 - val_loss: 11315.6982\n",
            "Epoch 10/50\n",
            "13/13 [==============================] - 0s 5ms/step - loss: 1834.6453 - val_loss: 11328.6631\n",
            "Epoch 11/50\n",
            "13/13 [==============================] - 0s 5ms/step - loss: 1824.6669 - val_loss: 11297.8262\n",
            "Epoch 12/50\n",
            "13/13 [==============================] - 0s 5ms/step - loss: 1815.2733 - val_loss: 11264.9990\n",
            "Epoch 13/50\n",
            "13/13 [==============================] - 0s 5ms/step - loss: 1808.1295 - val_loss: 11234.8584\n",
            "Epoch 14/50\n",
            "13/13 [==============================] - 0s 4ms/step - loss: 1797.9059 - val_loss: 11217.1230\n",
            "Epoch 15/50\n",
            "13/13 [==============================] - 0s 6ms/step - loss: 1791.9957 - val_loss: 11197.2764\n",
            "Epoch 16/50\n",
            "13/13 [==============================] - 0s 4ms/step - loss: 1787.7783 - val_loss: 11150.0176\n",
            "Epoch 17/50\n",
            "13/13 [==============================] - 0s 4ms/step - loss: 1776.2606 - val_loss: 11177.8896\n",
            "Epoch 18/50\n",
            "13/13 [==============================] - 0s 4ms/step - loss: 1771.6050 - val_loss: 11129.1475\n",
            "Epoch 19/50\n",
            "13/13 [==============================] - 0s 5ms/step - loss: 1763.6498 - val_loss: 11127.4209\n",
            "Epoch 20/50\n",
            "13/13 [==============================] - 0s 4ms/step - loss: 1758.1788 - val_loss: 11111.7236\n",
            "Epoch 21/50\n",
            "13/13 [==============================] - 0s 5ms/step - loss: 1753.5326 - val_loss: 11066.8027\n",
            "Epoch 22/50\n",
            "13/13 [==============================] - 0s 7ms/step - loss: 1746.9421 - val_loss: 11065.6680\n",
            "Epoch 23/50\n",
            "13/13 [==============================] - 0s 4ms/step - loss: 1744.9655 - val_loss: 11063.6777\n",
            "Epoch 24/50\n",
            "13/13 [==============================] - 0s 4ms/step - loss: 1738.1188 - val_loss: 11042.7617\n",
            "Epoch 25/50\n",
            "13/13 [==============================] - 0s 4ms/step - loss: 1735.3950 - val_loss: 11020.6709\n",
            "Epoch 26/50\n",
            "13/13 [==============================] - 0s 4ms/step - loss: 1728.9458 - val_loss: 11026.9443\n",
            "Epoch 27/50\n",
            "13/13 [==============================] - 0s 4ms/step - loss: 1725.5945 - val_loss: 11018.5879\n",
            "Epoch 28/50\n",
            "13/13 [==============================] - 0s 6ms/step - loss: 1722.6273 - val_loss: 11006.4785\n",
            "Epoch 29/50\n",
            "13/13 [==============================] - 0s 4ms/step - loss: 1719.2473 - val_loss: 11006.5684\n",
            "Epoch 30/50\n",
            "13/13 [==============================] - 0s 5ms/step - loss: 1714.2535 - val_loss: 10965.0645\n",
            "Epoch 31/50\n",
            "13/13 [==============================] - 0s 5ms/step - loss: 1713.4633 - val_loss: 10964.1758\n",
            "Epoch 32/50\n",
            "13/13 [==============================] - 0s 4ms/step - loss: 1708.2227 - val_loss: 10976.7910\n",
            "Epoch 33/50\n",
            "13/13 [==============================] - 0s 5ms/step - loss: 1704.1798 - val_loss: 10956.7139\n",
            "Epoch 34/50\n",
            "13/13 [==============================] - 0s 4ms/step - loss: 1703.5192 - val_loss: 10947.9541\n",
            "Epoch 35/50\n",
            "13/13 [==============================] - 0s 4ms/step - loss: 1698.2931 - val_loss: 10956.7383\n",
            "Epoch 36/50\n",
            "13/13 [==============================] - 0s 5ms/step - loss: 1695.5992 - val_loss: 10940.4707\n",
            "Epoch 37/50\n",
            "13/13 [==============================] - 0s 5ms/step - loss: 1693.2742 - val_loss: 10946.1523\n",
            "Epoch 38/50\n",
            "13/13 [==============================] - 0s 4ms/step - loss: 1689.4646 - val_loss: 10943.2676\n",
            "Epoch 39/50\n",
            "13/13 [==============================] - 0s 4ms/step - loss: 1686.6832 - val_loss: 10928.1230\n",
            "Epoch 40/50\n",
            "13/13 [==============================] - 0s 4ms/step - loss: 1686.0322 - val_loss: 10940.2812\n",
            "Epoch 41/50\n",
            "13/13 [==============================] - 0s 4ms/step - loss: 1682.1633 - val_loss: 10910.4863\n",
            "Epoch 42/50\n",
            "13/13 [==============================] - 0s 4ms/step - loss: 1680.1132 - val_loss: 10927.1006\n",
            "Epoch 43/50\n",
            "13/13 [==============================] - 0s 4ms/step - loss: 1677.8757 - val_loss: 10912.6191\n",
            "Epoch 44/50\n",
            "13/13 [==============================] - 0s 4ms/step - loss: 1674.4647 - val_loss: 10904.0068\n",
            "Epoch 45/50\n",
            "13/13 [==============================] - 0s 4ms/step - loss: 1672.8657 - val_loss: 10896.8760\n",
            "Epoch 46/50\n",
            "13/13 [==============================] - 0s 4ms/step - loss: 1669.7859 - val_loss: 10918.5469\n",
            "Epoch 47/50\n",
            "13/13 [==============================] - 0s 4ms/step - loss: 1666.8966 - val_loss: 10906.8271\n",
            "Epoch 48/50\n",
            "13/13 [==============================] - 0s 4ms/step - loss: 1665.1368 - val_loss: 10912.1143\n",
            "Epoch 49/50\n",
            "13/13 [==============================] - 0s 5ms/step - loss: 1662.8973 - val_loss: 10926.5781\n",
            "Epoch 50/50\n",
            "13/13 [==============================] - 0s 4ms/step - loss: 1661.3000 - val_loss: 10918.0146\n"
          ]
        }
      ]
    },
    {
      "cell_type": "code",
      "source": [
        "plt.plot(history.history['loss'], label='Training Loss')\n",
        "plt.plot(history.history['val_loss'], label='Validation Loss')\n",
        "plt.title('Model Training and Validation Loss')\n",
        "plt.xlabel('Epoch')\n",
        "plt.ylabel('Loss')\n",
        "plt.legend()\n",
        "plt.show()"
      ],
      "metadata": {
        "colab": {
          "base_uri": "https://localhost:8080/",
          "height": 472
        },
        "id": "4lmTRvRnAfb3",
        "outputId": "21502f1a-7583-440c-a962-bfc15118b5c3"
      },
      "execution_count": 12,
      "outputs": [
        {
          "output_type": "display_data",
          "data": {
            "text/plain": [
              "<Figure size 640x480 with 1 Axes>"
            ],
            "image/png": "[encoded data removed]"
          },
          "metadata": {}
        }
      ]
    }
  ]
}