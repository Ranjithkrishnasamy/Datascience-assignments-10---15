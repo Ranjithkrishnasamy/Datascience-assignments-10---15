{
  "nbformat": 4,
  "nbformat_minor": 0,
  "metadata": {
    "colab": {
      "provenance": [],
      "authorship_tag": "ABX9TyMAlUBRcPpmTO96+lpjeFca",
      "include_colab_link": true
    },
    "kernelspec": {
      "name": "python3",
      "display_name": "Python 3"
    },
    "language_info": {
      "name": "python"
    }
  },
  "cells": [
    {
      "cell_type": "markdown",
      "metadata": {
        "id": "view-in-github",
        "colab_type": "text"
      },
      "source": [
        "<a href=\"https://colab.research.google.com/github/Ranjithkrishnasamy/Datascience-assignments-11-to-15/blob/main/Textmining(Amazonproducts).ipynb\" target=\"_parent\"><img src=\"https://colab.research.google.com/assets/colab-badge.svg\" alt=\"Open In Colab\"/></a>"
      ]
    },
    {
      "cell_type": "code",
      "execution_count": 1,
      "metadata": {
        "id": "WoAC1jtSzKjJ"
      },
      "outputs": [],
      "source": [
        "import pandas as pd\n",
        "import re\n",
        "import nltk\n",
        "from nltk.corpus import stopwords\n",
        "from nltk.tokenize import word_tokenize\n",
        "from collections import Counter\n",
        "import matplotlib.pyplot as plt"
      ]
    },
    {
      "cell_type": "code",
      "source": [
        "path = r\"/content/amazon_com-product_reviews__20200101_20200331_sample (1).csv\"\n",
        "patha = r\"/content/positive-words.txt\"\n",
        "pathb = r\"/content/negative-words.txt\"\n",
        "pathc = r\"/content/stop.txt\"\n"
      ],
      "metadata": {
        "id": "sgD0hdzqzoIi"
      },
      "execution_count": 10,
      "outputs": []
    },
    {
      "cell_type": "code",
      "source": [
        "data = pd.read_csv(path)"
      ],
      "metadata": {
        "id": "pv8h4Ng1z2bx"
      },
      "execution_count": 11,
      "outputs": []
    },
    {
      "cell_type": "code",
      "source": [
        "with open(patha) as f:\n",
        "    positive_words = f.read().splitlines()\n",
        "\n",
        "with open(pathb) as f:\n",
        "    negative_words = f.read().splitlines()\n",
        "\n",
        "with open(pathc) as f:\n",
        "    stop_words = f.read().splitlines()"
      ],
      "metadata": {
        "id": "nwF6yzHU0ANy"
      },
      "execution_count": 12,
      "outputs": []
    },
    {
      "cell_type": "code",
      "source": [
        "def preprocess_text(text):\n",
        "    cleaned_text = re.sub(r'[^\\w\\s]', '', text.lower())\n",
        "    tokens = word_tokenize(cleaned_text)\n",
        "    tokens = [word for word in tokens if word not in stop_words]\n",
        "    return tokens"
      ],
      "metadata": {
        "id": "JDgRNncO0IeG"
      },
      "execution_count": 13,
      "outputs": []
    },
    {
      "cell_type": "code",
      "source": [
        "def analyze_emotion(tokens):\n",
        "    emotion_counter = Counter()\n",
        "    for token in tokens:\n",
        "        if token in positive_words:\n",
        "            emotion_counter['Positive'] += 1\n",
        "        elif token in negative_words:\n",
        "            emotion_counter['Negative'] += 1\n",
        "    return emotion_counter"
      ],
      "metadata": {
        "id": "TtRz_13x0OgN"
      },
      "execution_count": 14,
      "outputs": []
    },
    {
      "cell_type": "code",
      "source": [
        "import nltk\n",
        "nltk.download('punkt')"
      ],
      "metadata": {
        "colab": {
          "base_uri": "https://localhost:8080/"
        },
        "id": "qnUBCowk04Yh",
        "outputId": "73edada8-1ce4-415e-bc18-f3edbcbf8829"
      },
      "execution_count": 17,
      "outputs": [
        {
          "output_type": "stream",
          "name": "stderr",
          "text": [
            "[nltk_data] Downloading package punkt to /root/nltk_data...\n",
            "[nltk_data]   Unzipping tokenizers/punkt.zip.\n"
          ]
        },
        {
          "output_type": "execute_result",
          "data": {
            "text/plain": [
              "True"
            ]
          },
          "metadata": {},
          "execution_count": 17
        }
      ]
    },
    {
      "cell_type": "code",
      "source": [
        "data['Processed Review'] = data['Review'].apply(preprocess_text)\n",
        "data['Emotion'] = data['Processed Review'].apply(analyze_emotion)"
      ],
      "metadata": {
        "id": "bE4R6EaN0RjU"
      },
      "execution_count": 18,
      "outputs": []
    },
    {
      "cell_type": "code",
      "source": [
        "emotion_counts = data['Emotion'].sum()\n",
        "emotion_counts = dict(emotion_counts)"
      ],
      "metadata": {
        "id": "kS1uu1GB1B6P"
      },
      "execution_count": 19,
      "outputs": []
    },
    {
      "cell_type": "code",
      "source": [
        "emotions = list(emotion_counts.keys())\n",
        "count_values = list(emotion_counts.values())"
      ],
      "metadata": {
        "id": "K1LAKRGi1Eg1"
      },
      "execution_count": 20,
      "outputs": []
    },
    {
      "cell_type": "code",
      "source": [
        "plt.bar(emotions, count_values)\n",
        "plt.title('Emotion Mining Results')\n",
        "plt.xlabel('Emotion')\n",
        "plt.ylabel('Count')\n",
        "plt.show()"
      ],
      "metadata": {
        "colab": {
          "base_uri": "https://localhost:8080/",
          "height": 472
        },
        "id": "kRoZdOBY1IIK",
        "outputId": "228f86e1-40e5-4c49-cd09-a7a8daaba0c3"
      },
      "execution_count": 21,
      "outputs": [
        {
          "output_type": "display_data",
          "data": {
            "text/plain": [
              "<Figure size 640x480 with 1 Axes>"
            ],
            "image/png": "[encoded data removed]"
          },
          "metadata": {}
        }
      ]
    }
  ]
}