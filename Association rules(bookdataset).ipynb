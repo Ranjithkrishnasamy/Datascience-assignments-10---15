{
  "nbformat": 4,
  "nbformat_minor": 0,
  "metadata": {
    "colab": {
      "provenance": [],
      "authorship_tag": "ABX9TyNwBFzIwGKajpLaCI9kW7o4",
      "include_colab_link": true
    },
    "kernelspec": {
      "name": "python3",
      "display_name": "Python 3"
    },
    "language_info": {
      "name": "python"
    }
  },
  "cells": [
    {
      "cell_type": "markdown",
      "metadata": {
        "id": "view-in-github",
        "colab_type": "text"
      },
      "source": [
        "<a href=\"https://colab.research.google.com/github/Ranjithkrishnasamy/Datascience-assignments-11-to-15/blob/main/Association%20rules(bookdataset).ipynb\" target=\"_parent\"><img src=\"https://colab.research.google.com/assets/colab-badge.svg\" alt=\"Open In Colab\"/></a>"
      ]
    },
    {
      "cell_type": "code",
      "execution_count": 1,
      "metadata": {
        "id": "7Zh9HwRWV6Ay"
      },
      "outputs": [],
      "source": [
        "import pandas as pd\n",
        "import matplotlib.pyplot as plt\n",
        "from mlxtend.frequent_patterns import apriori, association_rules"
      ]
    },
    {
      "cell_type": "code",
      "source": [
        "path = r\"/content/book.csv\""
      ],
      "metadata": {
        "id": "J1EPe3tBYffU"
      },
      "execution_count": 2,
      "outputs": []
    },
    {
      "cell_type": "code",
      "source": [
        "data = pd.read_csv(path)"
      ],
      "metadata": {
        "id": "FD3gW7DlYgGm"
      },
      "execution_count": 3,
      "outputs": []
    },
    {
      "cell_type": "code",
      "source": [
        "frequent_itemsets = apriori(data, min_support=0.1, use_colnames=True)"
      ],
      "metadata": {
        "id": "YXFTk6biZmRO"
      },
      "execution_count": 10,
      "outputs": []
    },
    {
      "cell_type": "code",
      "source": [
        "rules = association_rules(frequent_itemsets, metric=\"confidence\", min_threshold=0.5)"
      ],
      "metadata": {
        "id": "ROekGUM7ZoZA"
      },
      "execution_count": 11,
      "outputs": []
    },
    {
      "cell_type": "code",
      "source": [
        "support_values = [0.1, 0.2, 0.3, 0.4, 0.5]\n",
        "confidence_values = [0.5, 0.6, 0.7, 0.8, 0.9]\n",
        "for support in support_values:\n",
        "    frequent_itemsets = apriori(data, min_support=support, use_colnames=True)\n",
        "    try:\n",
        "        rules = association_rules(frequent_itemsets)\n",
        "        num_rules = len(rules)\n",
        "        print(f\"Number of rules for support {support}: {num_rules}\")\n",
        "    except ValueError:\n",
        "        print(f\"No rules found for support {support}\")"
      ],
      "metadata": {
        "colab": {
          "base_uri": "https://localhost:8080/"
        },
        "id": "5Z1_93sZZs57",
        "outputId": "768d27ae-f00a-4979-e4b5-7d310eda6ab1"
      },
      "execution_count": 12,
      "outputs": [
        {
          "output_type": "stream",
          "name": "stdout",
          "text": [
            "Number of rules for support 0.1: 6\n",
            "Number of rules for support 0.2: 0\n",
            "Number of rules for support 0.3: 0\n",
            "Number of rules for support 0.4: 0\n",
            "No rules found for support 0.5\n"
          ]
        },
        {
          "output_type": "stream",
          "name": "stderr",
          "text": [
            "/usr/local/lib/python3.10/dist-packages/mlxtend/frequent_patterns/apriori.py:158: FutureWarning: The default dtype for empty Series will be 'object' instead of 'float64' in a future version. Specify a dtype explicitly to silence this warning.\n",
            "  itemsets = pd.Series([frozenset(i) for i in itemset_dict[k]])\n"
          ]
        }
      ]
    },
    {
      "cell_type": "code",
      "source": [
        "for confidence in confidence_values:\n",
        "    try:\n",
        "        rules = association_rules(frequent_itemsets, metric=\"confidence\", min_threshold=confidence)\n",
        "        num_rules = len(rules)\n",
        "        print(f\"Number of rules for confidence {confidence}: {num_rules}\")\n",
        "    except ValueError:\n",
        "        print(f\"No rules found for confidence {confidence}\")"
      ],
      "metadata": {
        "colab": {
          "base_uri": "https://localhost:8080/"
        },
        "id": "hXo6pafgZyay",
        "outputId": "00d3bcaa-cae0-4454-ef43-8952393a151e"
      },
      "execution_count": 13,
      "outputs": [
        {
          "output_type": "stream",
          "name": "stdout",
          "text": [
            "No rules found for confidence 0.5\n",
            "No rules found for confidence 0.6\n",
            "No rules found for confidence 0.7\n",
            "No rules found for confidence 0.8\n",
            "No rules found for confidence 0.9\n"
          ]
        }
      ]
    },
    {
      "cell_type": "markdown",
      "source": [
        "*Inference is there are 6 rules for support 0.1 and no rules for support 0.2 to 0.5 and confidence 0.5 to 0.9.*"
      ],
      "metadata": {
        "id": "s5XZQ-eYdexS"
      }
    }
  ]
}