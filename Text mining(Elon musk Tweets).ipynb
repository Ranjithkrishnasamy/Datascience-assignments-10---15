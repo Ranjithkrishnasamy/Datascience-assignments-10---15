{
  "nbformat": 4,
  "nbformat_minor": 0,
  "metadata": {
    "colab": {
      "provenance": [],
      "authorship_tag": "ABX9TyOyqKdzoeGCbzF9T6b054p5",
      "include_colab_link": true
    },
    "kernelspec": {
      "name": "python3",
      "display_name": "Python 3"
    },
    "language_info": {
      "name": "python"
    }
  },
  "cells": [
    {
      "cell_type": "markdown",
      "metadata": {
        "id": "view-in-github",
        "colab_type": "text"
      },
      "source": [
        "<a href=\"https://colab.research.google.com/github/Ranjithkrishnasamy/Datascience-assignments-11-to-15/blob/main/Text%20mining(Elon%20musk%20Tweets).ipynb\" target=\"_parent\"><img src=\"https://colab.research.google.com/assets/colab-badge.svg\" alt=\"Open In Colab\"/></a>"
      ]
    },
    {
      "cell_type": "code",
      "source": [
        "import pandas as pd\n",
        "import re\n",
        "from textblob import TextBlob\n",
        "import matplotlib.pyplot as plt"
      ],
      "metadata": {
        "id": "ZNLVSc7et53F"
      },
      "execution_count": 19,
      "outputs": []
    },
    {
      "cell_type": "code",
      "source": [
        "path = r\"/content/Elon_musk.csv\""
      ],
      "metadata": {
        "id": "G4PnKMzPt_t3"
      },
      "execution_count": 20,
      "outputs": []
    },
    {
      "cell_type": "code",
      "source": [
        "data = pd.read_csv(path)"
      ],
      "metadata": {
        "id": "BXohZPFkusL8"
      },
      "execution_count": 21,
      "outputs": []
    },
    {
      "cell_type": "code",
      "source": [
        "def clean_tweet(tweet):\n",
        "    # Remove special characters, links, and usernames\n",
        "    cleaned_tweet = re.sub(r'[^\\w\\s]', '', tweet)\n",
        "    cleaned_tweet = re.sub(r'http\\S+|www\\S+|@\\S+', '', cleaned_tweet)\n",
        "    cleaned_tweet = cleaned_tweet.strip()\n",
        "    return cleaned_tweet"
      ],
      "metadata": {
        "id": "WVm99hKUuxTy"
      },
      "execution_count": 22,
      "outputs": []
    },
    {
      "cell_type": "code",
      "source": [
        "data['Cleaned Tweet'] = data['Text'].apply(clean_tweet)"
      ],
      "metadata": {
        "id": "zS0rUbLYu0LF"
      },
      "execution_count": 24,
      "outputs": []
    },
    {
      "cell_type": "code",
      "source": [
        "patha = r\"/content/positive-words.txt\"\n",
        "pathb = r\"/content/negative-words.txt\"\n",
        "pathc = r\"/content/stop.txt\""
      ],
      "metadata": {
        "id": "Tele4Prju8zU"
      },
      "execution_count": 30,
      "outputs": []
    },
    {
      "cell_type": "code",
      "source": [
        "with open(patha) as file:\n",
        "    positive_words = file.read().splitlines()"
      ],
      "metadata": {
        "id": "5Gb-g897u_UC"
      },
      "execution_count": 31,
      "outputs": []
    },
    {
      "cell_type": "code",
      "source": [
        "with open(pathb) as file:\n",
        "    negative_words = file.read().splitlines()"
      ],
      "metadata": {
        "id": "MTS3Qf5nvYFU"
      },
      "execution_count": 32,
      "outputs": []
    },
    {
      "cell_type": "code",
      "source": [
        "with open(pathc) as file:\n",
        "    stop_words = file.read().splitlines()"
      ],
      "metadata": {
        "id": "pAAC6EO2vyKQ"
      },
      "execution_count": 34,
      "outputs": []
    },
    {
      "cell_type": "code",
      "source": [
        "import nltk\n",
        "nltk.download('punkt')"
      ],
      "metadata": {
        "colab": {
          "base_uri": "https://localhost:8080/"
        },
        "id": "oSQHV-MWwVq2",
        "outputId": "549fd207-fa17-4f71-fc12-12b7c72c9dd2"
      },
      "execution_count": 36,
      "outputs": [
        {
          "output_type": "stream",
          "name": "stderr",
          "text": [
            "[nltk_data] Downloading package punkt to /root/nltk_data...\n",
            "[nltk_data]   Unzipping tokenizers/punkt.zip.\n"
          ]
        },
        {
          "output_type": "execute_result",
          "data": {
            "text/plain": [
              "True"
            ]
          },
          "metadata": {},
          "execution_count": 36
        }
      ]
    },
    {
      "cell_type": "code",
      "source": [
        "def analyze_sentiment(tweet):\n",
        "    analysis = TextBlob(tweet.lower())\n",
        "    words = analysis.words\n",
        "    sentiment_score = 0\n",
        "\n",
        "    for word in words:\n",
        "        if word in positive_words:\n",
        "            sentiment_score += 1\n",
        "        elif word in negative_words:\n",
        "            sentiment_score -= 1\n",
        "\n",
        "    if sentiment_score > 0:\n",
        "        return 'Positive'\n",
        "    elif sentiment_score < 0:\n",
        "        return 'Negative'\n",
        "    else:\n",
        "        return 'Neutral'\n",
        "\n",
        "data['Sentiment'] = data['Cleaned Tweet'].apply(analyze_sentiment)"
      ],
      "metadata": {
        "id": "mcyRW5b4v5gU"
      },
      "execution_count": 37,
      "outputs": []
    },
    {
      "cell_type": "code",
      "source": [
        "sentiment_counts = data['Sentiment'].value_counts()"
      ],
      "metadata": {
        "id": "stz6uggHwkID"
      },
      "execution_count": 38,
      "outputs": []
    },
    {
      "cell_type": "code",
      "source": [
        "plt.figure(figsize=(8, 6))\n",
        "plt.bar(sentiment_counts.index, sentiment_counts.values, color=['green', 'red', 'gray'])\n",
        "plt.title('Sentiment Analysis of Elon Musk Tweets')\n",
        "plt.xlabel('Sentiment')\n",
        "plt.ylabel('Count')\n",
        "plt.show()"
      ],
      "metadata": {
        "colab": {
          "base_uri": "https://localhost:8080/",
          "height": 564
        },
        "id": "ZE1arPeOwtFt",
        "outputId": "22a94566-3bd6-41bb-9b8f-786dbf5ad9d9"
      },
      "execution_count": 39,
      "outputs": [
        {
          "output_type": "display_data",
          "data": {
            "text/plain": [
              "<Figure size 800x600 with 1 Axes>"
            ],
            "image/png": "[encoded data removed]"
          },
          "metadata": {}
        }
      ]
    }
  ]
}