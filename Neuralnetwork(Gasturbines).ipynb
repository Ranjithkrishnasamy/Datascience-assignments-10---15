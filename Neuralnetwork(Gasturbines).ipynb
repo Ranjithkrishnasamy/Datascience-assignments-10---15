{
  "cells": [
    {
      "cell_type": "markdown",
      "metadata": {
        "id": "view-in-github",
        "colab_type": "text"
      },
      "source": [
        "<a href=\"https://colab.research.google.com/github/Ranjithkrishnasamy/Datascience-assignments-11-to-15/blob/main/Neuralnetwork(Gasturbines).ipynb\" target=\"_parent\"><img src=\"https://colab.research.google.com/assets/colab-badge.svg\" alt=\"Open In Colab\"/></a>"
      ]
    },
    {
      "cell_type": "code",
      "execution_count": 3,
      "metadata": {
        "id": "HA6k7c6646JE"
      },
      "outputs": [],
      "source": [
        "import pandas as pd\n",
        "import numpy as np\n",
        "import matplotlib.pyplot as plt\n",
        "from sklearn.model_selection import train_test_split\n",
        "from sklearn.preprocessing import MinMaxScaler\n",
        "from tensorflow.keras.models import Sequential\n",
        "from tensorflow.keras.layers import Dense"
      ]
    },
    {
      "cell_type": "code",
      "source": [
        "path = r\"/content/gas_turbines.csv\""
      ],
      "metadata": {
        "id": "fANnTy4o8qjl"
      },
      "execution_count": 4,
      "outputs": []
    },
    {
      "cell_type": "code",
      "source": [
        "data = pd.read_csv(path)"
      ],
      "metadata": {
        "id": "Tk0jqDW78rG6"
      },
      "execution_count": 5,
      "outputs": []
    },
    {
      "cell_type": "code",
      "source": [
        "X = data.iloc[:, :-1].values\n",
        "y = data.iloc[:, 7].values"
      ],
      "metadata": {
        "id": "qWCvRVMH8yR5"
      },
      "execution_count": 6,
      "outputs": []
    },
    {
      "cell_type": "code",
      "source": [
        "X_train, X_test, y_train, y_test = train_test_split(X, y, test_size=0.2, random_state=42)"
      ],
      "metadata": {
        "id": "qlM4a_Th82JH"
      },
      "execution_count": 7,
      "outputs": []
    },
    {
      "cell_type": "code",
      "source": [
        "scaler = MinMaxScaler()\n",
        "X_train = scaler.fit_transform(X_train)\n",
        "X_test = scaler.transform(X_test)"
      ],
      "metadata": {
        "id": "mofRPb7W86kO"
      },
      "execution_count": 8,
      "outputs": []
    },
    {
      "cell_type": "code",
      "source": [
        "model = Sequential()\n",
        "model.add(Dense(16, activation='relu', input_dim=10))\n",
        "model.add(Dense(8, activation='relu'))\n",
        "model.add(Dense(1))"
      ],
      "metadata": {
        "id": "MBsl1BTP8-VN"
      },
      "execution_count": 12,
      "outputs": []
    },
    {
      "cell_type": "code",
      "source": [
        "model.compile(loss='mean_squared_error', optimizer='adam')"
      ],
      "metadata": {
        "id": "G8TWC5MX9EEj"
      },
      "execution_count": 13,
      "outputs": []
    },
    {
      "cell_type": "code",
      "source": [
        "history = model.fit(X_train, y_train, validation_data=(X_test, y_test), epochs=50, batch_size=32)"
      ],
      "metadata": {
        "colab": {
          "base_uri": "https://localhost:8080/"
        },
        "id": "b_LJWWRy9Ghr",
        "outputId": "c52973ca-68e4-441d-9a69-69e113ba25a7"
      },
      "execution_count": 14,
      "outputs": [
        {
          "output_type": "stream",
          "name": "stdout",
          "text": [
            "Epoch 1/50\n",
            "376/376 [==============================] - 2s 2ms/step - loss: 14066.8564 - val_loss: 3561.7195\n",
            "Epoch 2/50\n",
            "376/376 [==============================] - 1s 2ms/step - loss: 461.5121 - val_loss: 44.7089\n",
            "Epoch 3/50\n",
            "376/376 [==============================] - 1s 2ms/step - loss: 43.8534 - val_loss: 40.1084\n",
            "Epoch 4/50\n",
            "376/376 [==============================] - 1s 2ms/step - loss: 38.8851 - val_loss: 35.1426\n",
            "Epoch 5/50\n",
            "376/376 [==============================] - 1s 2ms/step - loss: 34.1235 - val_loss: 30.9365\n",
            "Epoch 6/50\n",
            "376/376 [==============================] - 1s 2ms/step - loss: 30.3736 - val_loss: 27.7104\n",
            "Epoch 7/50\n",
            "376/376 [==============================] - 1s 2ms/step - loss: 27.6568 - val_loss: 25.3778\n",
            "Epoch 8/50\n",
            "376/376 [==============================] - 1s 2ms/step - loss: 25.5739 - val_loss: 23.8758\n",
            "Epoch 9/50\n",
            "376/376 [==============================] - 1s 2ms/step - loss: 23.8565 - val_loss: 21.9755\n",
            "Epoch 10/50\n",
            "376/376 [==============================] - 1s 2ms/step - loss: 22.2771 - val_loss: 20.5220\n",
            "Epoch 11/50\n",
            "376/376 [==============================] - 1s 3ms/step - loss: 20.7566 - val_loss: 19.0677\n",
            "Epoch 12/50\n",
            "376/376 [==============================] - 1s 3ms/step - loss: 19.1701 - val_loss: 17.5668\n",
            "Epoch 13/50\n",
            "376/376 [==============================] - 1s 3ms/step - loss: 17.5348 - val_loss: 16.0448\n",
            "Epoch 14/50\n",
            "376/376 [==============================] - 1s 2ms/step - loss: 15.8555 - val_loss: 14.5359\n",
            "Epoch 15/50\n",
            "376/376 [==============================] - 1s 2ms/step - loss: 14.1943 - val_loss: 13.1333\n",
            "Epoch 16/50\n",
            "376/376 [==============================] - 1s 2ms/step - loss: 12.5072 - val_loss: 11.3949\n",
            "Epoch 17/50\n",
            "376/376 [==============================] - 1s 2ms/step - loss: 10.7748 - val_loss: 10.1464\n",
            "Epoch 18/50\n",
            "376/376 [==============================] - 1s 2ms/step - loss: 9.1445 - val_loss: 8.4379\n",
            "Epoch 19/50\n",
            "376/376 [==============================] - 1s 2ms/step - loss: 7.5387 - val_loss: 6.8531\n",
            "Epoch 20/50\n",
            "376/376 [==============================] - 1s 2ms/step - loss: 6.1519 - val_loss: 5.7271\n",
            "Epoch 21/50\n",
            "376/376 [==============================] - 1s 2ms/step - loss: 4.9942 - val_loss: 4.6296\n",
            "Epoch 22/50\n",
            "376/376 [==============================] - 1s 2ms/step - loss: 4.0079 - val_loss: 3.7763\n",
            "Epoch 23/50\n",
            "376/376 [==============================] - 1s 2ms/step - loss: 3.2710 - val_loss: 3.0953\n",
            "Epoch 24/50\n",
            "376/376 [==============================] - 1s 2ms/step - loss: 2.6379 - val_loss: 2.4677\n",
            "Epoch 25/50\n",
            "376/376 [==============================] - 1s 2ms/step - loss: 2.1345 - val_loss: 1.9702\n",
            "Epoch 26/50\n",
            "376/376 [==============================] - 1s 2ms/step - loss: 1.6931 - val_loss: 1.5173\n",
            "Epoch 27/50\n",
            "376/376 [==============================] - 1s 3ms/step - loss: 1.2915 - val_loss: 1.1537\n",
            "Epoch 28/50\n",
            "376/376 [==============================] - 1s 3ms/step - loss: 0.9994 - val_loss: 0.9212\n",
            "Epoch 29/50\n",
            "376/376 [==============================] - 1s 3ms/step - loss: 0.7371 - val_loss: 0.6423\n",
            "Epoch 30/50\n",
            "376/376 [==============================] - 1s 2ms/step - loss: 0.5515 - val_loss: 0.4750\n",
            "Epoch 31/50\n",
            "376/376 [==============================] - 1s 2ms/step - loss: 0.4194 - val_loss: 0.3596\n",
            "Epoch 32/50\n",
            "376/376 [==============================] - 1s 2ms/step - loss: 0.3289 - val_loss: 0.2914\n",
            "Epoch 33/50\n",
            "376/376 [==============================] - 1s 2ms/step - loss: 0.2696 - val_loss: 0.2262\n",
            "Epoch 34/50\n",
            "376/376 [==============================] - 1s 2ms/step - loss: 0.2261 - val_loss: 0.2045\n",
            "Epoch 35/50\n",
            "376/376 [==============================] - 1s 2ms/step - loss: 0.2065 - val_loss: 0.2237\n",
            "Epoch 36/50\n",
            "376/376 [==============================] - 1s 2ms/step - loss: 0.1841 - val_loss: 0.1703\n",
            "Epoch 37/50\n",
            "376/376 [==============================] - 1s 2ms/step - loss: 0.1721 - val_loss: 0.1553\n",
            "Epoch 38/50\n",
            "376/376 [==============================] - 1s 2ms/step - loss: 0.1766 - val_loss: 0.1592\n",
            "Epoch 39/50\n",
            "376/376 [==============================] - 1s 2ms/step - loss: 0.1546 - val_loss: 0.1842\n",
            "Epoch 40/50\n",
            "376/376 [==============================] - 1s 2ms/step - loss: 0.1467 - val_loss: 0.1353\n",
            "Epoch 41/50\n",
            "376/376 [==============================] - 1s 2ms/step - loss: 0.1441 - val_loss: 0.1221\n",
            "Epoch 42/50\n",
            "376/376 [==============================] - 1s 2ms/step - loss: 0.1298 - val_loss: 0.1137\n",
            "Epoch 43/50\n",
            "376/376 [==============================] - 1s 3ms/step - loss: 0.1250 - val_loss: 0.1190\n",
            "Epoch 44/50\n",
            "376/376 [==============================] - 1s 3ms/step - loss: 0.1196 - val_loss: 0.1363\n",
            "Epoch 45/50\n",
            "376/376 [==============================] - 1s 2ms/step - loss: 0.1167 - val_loss: 0.1547\n",
            "Epoch 46/50\n",
            "376/376 [==============================] - 1s 2ms/step - loss: 0.1053 - val_loss: 0.1096\n",
            "Epoch 47/50\n",
            "376/376 [==============================] - 1s 2ms/step - loss: 0.1022 - val_loss: 0.0846\n",
            "Epoch 48/50\n",
            "376/376 [==============================] - 1s 2ms/step - loss: 0.0910 - val_loss: 0.0775\n",
            "Epoch 49/50\n",
            "376/376 [==============================] - 1s 2ms/step - loss: 0.0876 - val_loss: 0.0765\n",
            "Epoch 50/50\n",
            "376/376 [==============================] - 1s 2ms/step - loss: 0.0819 - val_loss: 0.0668\n"
          ]
        }
      ]
    },
    {
      "cell_type": "code",
      "source": [
        "plt.plot(history.history['loss'], label='Training Loss')\n",
        "plt.plot(history.history['val_loss'], label='Validation Loss')\n",
        "plt.title('Model Training and Validation Loss')\n",
        "plt.xlabel('Epoch')\n",
        "plt.ylabel('Loss')\n",
        "plt.legend()\n",
        "plt.show()"
      ],
      "metadata": {
        "colab": {
          "base_uri": "https://localhost:8080/",
          "height": 472
        },
        "id": "cWEHw5b99v1t",
        "outputId": "c18b0ffc-126f-472c-bb6c-0feff226280e"
      },
      "execution_count": 15,
      "outputs": [
        {
          "output_type": "display_data",
          "data": {
            "text/plain": [
              "<Figure size 640x480 with 1 Axes>"
            ],
            "image/png": "[encoded data removed]"
          },
          "metadata": {}
        }
      ]
    }
  ],
  "metadata": {
    "colab": {
      "provenance": [],
      "authorship_tag": "ABX9TyPcRsvgzWSaGcseFVcJu1bo",
      "include_colab_link": true
    },
    "kernelspec": {
      "display_name": "Python 3",
      "name": "python3"
    },
    "language_info": {
      "name": "python"
    }
  },
  "nbformat": 4,
  "nbformat_minor": 0
}